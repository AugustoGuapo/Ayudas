{
  "nbformat": 4,
  "nbformat_minor": 0,
  "metadata": {
    "colab": {
      "name": "ATM sin estructuras",
      "provenance": [],
      "authorship_tag": "ABX9TyPP3PZbp9hxA/LFZR7DXFSs",
      "include_colab_link": true
    },
    "kernelspec": {
      "name": "python3",
      "display_name": "Python 3"
    },
    "language_info": {
      "name": "python"
    }
  },
  "cells": [
    {
      "cell_type": "markdown",
      "metadata": {
        "id": "view-in-github",
        "colab_type": "text"
      },
      "source": [
        "<a href=\"https://colab.research.google.com/github/AugustoGuapo/Ayudas/blob/main/ATM_sin_estructuras.ipynb\" target=\"_parent\"><img src=\"https://colab.research.google.com/assets/colab-badge.svg\" alt=\"Open In Colab\"/></a>"
      ]
    },
    {
      "cell_type": "code",
      "execution_count": null,
      "metadata": {
        "id": "e3nLz0eTW4IX"
      },
      "outputs": [],
      "source": [
        "monto = int(input(\"Introduzca la cantidad a retirar: \"))\n",
        "billetes1000 = 0\n",
        "billetes500= 0\n",
        "billetes100= 0\n",
        "billetes10 = 0\n",
        "billetes1000=monto//1000\n",
        "monto-=billetes1000*1000\n",
        "billetes500=monto//500\n",
        "monto-=billetes500*500\n",
        "billetes100=monto//100\n",
        "monto-=billetes100*100\n",
        "billetes10=monto//10\n",
        "print(billetes1000+billetes500+billetes100+billetes10)"
      ]
    }
  ]
}